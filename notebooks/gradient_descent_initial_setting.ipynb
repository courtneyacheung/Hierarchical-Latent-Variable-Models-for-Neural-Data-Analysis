{
  "cells": [
    {
      "cell_type": "code",
      "execution_count": null,
      "id": "8e8c7dec",
      "metadata": {
        "id": "8e8c7dec"
      },
      "outputs": [],
      "source": [
        "import numpy as np\n",
        "import matplotlib.pyplot as plt"
      ]
    },
    {
      "cell_type": "code",
      "execution_count": null,
      "id": "068e01b1",
      "metadata": {
        "id": "068e01b1"
      },
      "outputs": [],
      "source": [
        "n = 100 #number of observations\n",
        "p = 8 #number of parameters (dimension of B)\n",
        "alpha = 2\n",
        "v = 3"
      ]
    },
    {
      "cell_type": "markdown",
      "source": [
        "B is generated from a normal distribution centered at 0 with standard variation 1/alpha."
      ],
      "metadata": {
        "id": "uNdf1n3q5Qb9"
      },
      "id": "uNdf1n3q5Qb9"
    },
    {
      "cell_type": "code",
      "execution_count": null,
      "id": "c5423928",
      "metadata": {
        "id": "c5423928",
        "outputId": "c21efc07-14dd-4949-a44a-96fdb0ce7e6c",
        "colab": {
          "base_uri": "https://localhost:8080/"
        }
      },
      "outputs": [
        {
          "output_type": "execute_result",
          "data": {
            "text/plain": [
              "array([[-0.80681578],\n",
              "       [-0.10341895],\n",
              "       [-0.24376109],\n",
              "       [-0.42938099],\n",
              "       [ 0.48235228],\n",
              "       [-0.5998461 ],\n",
              "       [-0.38547746],\n",
              "       [ 0.0907456 ]])"
            ]
          },
          "metadata": {},
          "execution_count": 3
        }
      ],
      "source": [
        "B = np.random.normal(0, 1/alpha, size=(p, 1))\n",
        "B"
      ]
    },
    {
      "cell_type": "markdown",
      "source": [
        "Here, we generate design matrix X with bias term."
      ],
      "metadata": {
        "id": "W3_3Ok8B5ZXl"
      },
      "id": "W3_3Ok8B5ZXl"
    },
    {
      "cell_type": "code",
      "execution_count": null,
      "id": "e39fc373",
      "metadata": {
        "id": "e39fc373",
        "outputId": "584a6bb8-467a-4c0d-b0ac-1e22ce4c48f8",
        "colab": {
          "base_uri": "https://localhost:8080/"
        }
      },
      "outputs": [
        {
          "output_type": "execute_result",
          "data": {
            "text/plain": [
              "(100, 8)"
            ]
          },
          "metadata": {},
          "execution_count": 4
        }
      ],
      "source": [
        "X = np.random.normal(10, 8, size=(n, p-1))\n",
        "X0 = np.ones((n,1))\n",
        "X = np.hstack((X0, X))\n",
        "X.shape"
      ]
    },
    {
      "cell_type": "markdown",
      "source": [
        "Here, E is the noise term, which we generate from another normal distribution centered at 0 with variance 1/nu."
      ],
      "metadata": {
        "id": "n3ANjME05dsI"
      },
      "id": "n3ANjME05dsI"
    },
    {
      "cell_type": "code",
      "execution_count": null,
      "id": "5289be0d",
      "metadata": {
        "id": "5289be0d",
        "outputId": "955e3094-8a28-4a3d-b881-32a4e531ef49",
        "colab": {
          "base_uri": "https://localhost:8080/"
        }
      },
      "outputs": [
        {
          "output_type": "execute_result",
          "data": {
            "text/plain": [
              "(100, 1)"
            ]
          },
          "metadata": {},
          "execution_count": 5
        }
      ],
      "source": [
        "E = np.random.normal(0, 1/v, size=(n, 1))\n",
        "E.shape"
      ]
    },
    {
      "cell_type": "code",
      "execution_count": null,
      "id": "b574afe0",
      "metadata": {
        "id": "b574afe0",
        "outputId": "117bae1e-0ca9-4ba2-962e-b67720653fb1",
        "colab": {
          "base_uri": "https://localhost:8080/"
        }
      },
      "outputs": [
        {
          "output_type": "execute_result",
          "data": {
            "text/plain": [
              "(100, 1)"
            ]
          },
          "metadata": {},
          "execution_count": 6
        }
      ],
      "source": [
        "Y = X@B + E\n",
        "Y.shape"
      ]
    },
    {
      "cell_type": "markdown",
      "source": [
        "We know from the empirical bayes, log(alpha,nu) is proportional to log|nu\\*I + 1/alpha\\*XXT|+YT(nu\\*I+1/alpha*XXT). Therefore we create the function, negative_log_Likelihood, to compute the value of this empirical function each time the alpha and nu updated. Then, we get the optimum alpha and nu when the empirical function reaches the minimum value."
      ],
      "metadata": {
        "id": "2DYQjAQ_c1Ur"
      },
      "id": "2DYQjAQ_c1Ur"
    },
    {
      "cell_type": "code",
      "execution_count": null,
      "id": "c2adc45a",
      "metadata": {
        "id": "c2adc45a"
      },
      "outputs": [],
      "source": [
        "def negative_log_likelihood(params, Y, X):\n",
        "    a, v = params  # These are the parameters we want to optimize: a and v\n",
        "\n",
        "    # Step 1: Calculate the covariance matrix based on a and X\n",
        "    n = Y.shape[0]  # Number of data points\n",
        "    I = np.identity(n)  # Identity matrix of size n x n\n",
        "    cov_matrix = v * I + (1/a) * np.dot(X, X.T)\n",
        "    #cov_matrix += 1e-5 * np.identity(n)\n",
        "\n",
        "    # Step 2: Compute the log-likelihood directly\n",
        "    log_likelihood = -0.5 * (n * np.log(2 * np.pi) + np.log(np.linalg.det(cov_matrix)) + np.dot(np.dot(Y.T, np.linalg.inv(cov_matrix)), Y))\n",
        "    print(-log_likelihood)\n",
        "    # Step 3: Return the negative log-likelihood (for minimization)\n",
        "    return -log_likelihood"
      ]
    },
    {
      "cell_type": "markdown",
      "source": [
        "We perform gradient descent and find the optimum alpha and nu"
      ],
      "metadata": {
        "id": "kXDOACJSc5yg"
      },
      "id": "kXDOACJSc5yg"
    },
    {
      "cell_type": "code",
      "source": [
        "def gradient(params, Y, X):\n",
        "  alpha, v = params\n",
        "  n = Y.shape[0]\n",
        "  I = np.identity(n)\n",
        "  cov_matrix = v * I + 1 / alpha * X @ X.T\n",
        "  inv_cov_matrix = np.linalg.inv(cov_matrix)\n",
        "\n",
        "  # Gradient with respect to 'a'\n",
        "  gradient_a = -0.5 * (np.trace(inv_cov_matrix) - np.dot(np.dot(Y.T, inv_cov_matrix), Y))\n",
        "\n",
        "  # Gradient with respect to 'v'\n",
        "  gradient_v = -0.5 * (np.trace(inv_cov_matrix) - n)\n",
        "\n",
        "  return np.array([gradient_a, gradient_v])"
      ],
      "metadata": {
        "id": "y7EMzrPYsiop"
      },
      "id": "y7EMzrPYsiop",
      "execution_count": null,
      "outputs": []
    },
    {
      "cell_type": "code",
      "source": [
        "# Hyperparameters for gradient descent\n",
        "learning_rate = 0.001\n",
        "max_iterations = 10000\n",
        "tolerance = 1e-6\n",
        "\n",
        "# Initial parameter values\n",
        "a = 1\n",
        "v = 1\n",
        "\n",
        "for iteration in range(max_iterations):\n",
        "    # Compute the gradient\n",
        "    grad = gradient([a, v], Y, X)\n",
        "\n",
        "    # Update parameters using gradient ascent\n",
        "    a += learning_rate * grad[0]\n",
        "    v += learning_rate * grad[1]\n",
        "\n",
        "    # Convergence check\n",
        "    if np.max(np.abs(grad)) < tolerance:\n",
        "        break\n",
        "\n",
        "print(f\"Estimated 'a': {a}\")\n",
        "print(f\"Estimated 'v': {v}\")"
      ],
      "metadata": {
        "colab": {
          "base_uri": "https://localhost:8080/"
        },
        "id": "PEKzsh5bv-Mo",
        "outputId": "e397dfba-b52a-418b-80eb-6f6126367b13"
      },
      "id": "PEKzsh5bv-Mo",
      "execution_count": null,
      "outputs": [
        {
          "output_type": "stream",
          "name": "stderr",
          "text": [
            "<ipython-input-8-9d96efa0d43e>:14: VisibleDeprecationWarning: Creating an ndarray from ragged nested sequences (which is a list-or-tuple of lists-or-tuples-or ndarrays with different lengths or shapes) is deprecated. If you meant to do this, you must specify 'dtype=object' when creating the ndarray.\n",
            "  return np.array([gradient_a, gradient_v])\n"
          ]
        },
        {
          "output_type": "stream",
          "name": "stdout",
          "text": [
            "Estimated 'a': [[167.01824301]]\n",
            "Estimated 'v': 492.92695583763646\n"
          ]
        }
      ]
    },
    {
      "cell_type": "code",
      "execution_count": null,
      "id": "bda8b472",
      "metadata": {
        "id": "bda8b472"
      },
      "outputs": [],
      "source": [
        "initial_guess = [1.0, 1.0]"
      ]
    },
    {
      "cell_type": "code",
      "execution_count": null,
      "id": "eafbf3b7",
      "metadata": {
        "id": "eafbf3b7"
      },
      "outputs": [],
      "source": [
        "constraints = ({'type': 'ineq', 'fun': lambda x: x[0]},\n",
        "               {'type': 'ineq', 'fun': lambda x: x[1]})\n"
      ]
    },
    {
      "cell_type": "code",
      "execution_count": null,
      "id": "e5ad1bf2",
      "metadata": {
        "id": "e5ad1bf2"
      },
      "outputs": [],
      "source": [
        "from scipy.optimize import minimize\n"
      ]
    },
    {
      "cell_type": "code",
      "execution_count": null,
      "id": "f63a94f5",
      "metadata": {
        "id": "f63a94f5",
        "outputId": "e1e3f8c3-a64e-45ed-efda-ea1a0fc68e5b",
        "colab": {
          "base_uri": "https://localhost:8080/"
        }
      },
      "outputs": [
        {
          "output_type": "stream",
          "name": "stdout",
          "text": [
            "[[131.2923908]]\n",
            "[[131.29239075]]\n",
            "[[131.2923914]]\n",
            "[[-inf]]\n",
            "[[-inf]]\n",
            "[[-inf]]\n"
          ]
        },
        {
          "output_type": "stream",
          "name": "stderr",
          "text": [
            "<ipython-input-7-9e35c8e4a495>:11: RuntimeWarning: divide by zero encountered in log\n",
            "  log_likelihood = -0.5 * (n * np.log(2 * np.pi) + np.log(np.linalg.det(cov_matrix)) + np.dot(np.dot(Y.T, np.linalg.inv(cov_matrix)), Y))\n",
            "/usr/local/lib/python3.10/dist-packages/scipy/optimize/_numdiff.py:576: RuntimeWarning: invalid value encountered in subtract\n",
            "  df = fun(x) - f0\n"
          ]
        }
      ],
      "source": [
        "result = minimize(negative_log_likelihood, initial_guess, args=(Y, X), constraints=constraints)"
      ]
    },
    {
      "cell_type": "code",
      "execution_count": null,
      "id": "67e97f73",
      "metadata": {
        "id": "67e97f73",
        "outputId": "7c96c7aa-fb9d-4e2a-9b09-e548a549317c",
        "colab": {
          "base_uri": "https://localhost:8080/"
        }
      },
      "outputs": [
        {
          "output_type": "execute_result",
          "data": {
            "text/plain": [
              "array([4.26884270e+00, 1.17950094e-11])"
            ]
          },
          "metadata": {},
          "execution_count": 14
        }
      ],
      "source": [
        "result.x"
      ]
    },
    {
      "cell_type": "code",
      "source": [
        "p"
      ],
      "metadata": {
        "colab": {
          "base_uri": "https://localhost:8080/"
        },
        "id": "ZXzNfo-Iu4Th",
        "outputId": "f6053944-cbfb-4412-ec42-bbc704450ead"
      },
      "id": "ZXzNfo-Iu4Th",
      "execution_count": null,
      "outputs": [
        {
          "output_type": "execute_result",
          "data": {
            "text/plain": [
              "8"
            ]
          },
          "metadata": {},
          "execution_count": 15
        }
      ]
    },
    {
      "cell_type": "code",
      "execution_count": null,
      "id": "fa8f2080",
      "metadata": {
        "id": "fa8f2080"
      },
      "outputs": [],
      "source": [
        "p1 =np.linalg.inv((alpha*np.identity(p))+(1/v*np.dot(X.T,X)))"
      ]
    },
    {
      "cell_type": "code",
      "execution_count": null,
      "id": "62b06ab9",
      "metadata": {
        "id": "62b06ab9"
      },
      "outputs": [],
      "source": [
        "p2 = np.linalg.inv((45.88378585*np.identity(p))+(1/492.77257717288825*np.dot(X.T,X)))"
      ]
    },
    {
      "cell_type": "code",
      "execution_count": null,
      "id": "75352892",
      "metadata": {
        "id": "75352892"
      },
      "outputs": [],
      "source": [
        "d1 = 1/v*np.dot(p1, np.dot(X.T,Y))"
      ]
    },
    {
      "cell_type": "code",
      "execution_count": null,
      "id": "7d032e20",
      "metadata": {
        "id": "7d032e20"
      },
      "outputs": [],
      "source": [
        "d2 = 1/492.77257717288825*np.dot(p1, np.dot(X.T,Y))"
      ]
    },
    {
      "cell_type": "code",
      "execution_count": null,
      "id": "8dc3df0e",
      "metadata": {
        "id": "8dc3df0e",
        "colab": {
          "base_uri": "https://localhost:8080/",
          "height": 467
        },
        "outputId": "ca2b375f-a9db-4a6e-d913-8ac877e5e966"
      },
      "outputs": [
        {
          "output_type": "execute_result",
          "data": {
            "text/plain": [
              "Text(0, 0.5, 'B estimate')"
            ]
          },
          "metadata": {},
          "execution_count": 20
        },
        {
          "output_type": "display_data",
          "data": {
            "text/plain": [
              "<Figure size 640x480 with 1 Axes>"
            ],
            "image/png": "[encoded data removed]"
          },
          "metadata": {}
        }
      ],
      "source": [
        "plt.scatter(B, d2, c =\"blue\")\n",
        "plt.xlabel(\"B\")\n",
        "plt.ylabel(\"B estimate\")"
      ]
    }
  ],
  "metadata": {
    "kernelspec": {
      "display_name": "Python 3 (ipykernel)",
      "language": "python",
      "name": "python3"
    },
    "language_info": {
      "codemirror_mode": {
        "name": "ipython",
        "version": 3
      },
      "file_extension": ".py",
      "mimetype": "text/x-python",
      "name": "python",
      "nbconvert_exporter": "python",
      "pygments_lexer": "ipython3",
      "version": "3.9.12"
    },
    "colab": {
      "provenance": []
    }
  },
  "nbformat": 4,
  "nbformat_minor": 5
}